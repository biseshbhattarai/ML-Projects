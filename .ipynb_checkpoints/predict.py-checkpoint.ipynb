{
 "cells": [
  {
   "cell_type": "code",
   "execution_count": 2,
   "metadata": {
    "collapsed": true
   },
   "outputs": [
    {
     "name": "stderr",
     "output_type": "stream",
     "text": [
      "/home/bisesh/.local/lib/python3.6/site-packages/sklearn/cross_validation.py:41: DeprecationWarning: This module was deprecated in version 0.18 in favor of the model_selection module into which all the refactored classes and functions are moved. Also note that the interface of the new CV iterators are different from that of this module. This module will be removed in 0.20.\n",
      "  \"This module will be removed in 0.20.\", DeprecationWarning)\n"
     ]
    }
   ],
   "source": [
    "import pandas as pd\n",
    "import numpy as np\n",
    "from sklearn import preprocessing, cross_validation, svm\n",
    "from sklearn.linear_model import LinearRegression\n",
    "import quandl , math, datetime\n",
    "import matplotlib.pyplot as plt\n",
    "from matplotlib import style"
   ]
  },
  {
   "cell_type": "code",
   "execution_count": 6,
   "metadata": {},
   "outputs": [],
   "source": [
    "style.use('ggplot')\n",
    "df = quandl.get('WIKI/GOOGL')"
   ]
  },
  {
   "cell_type": "code",
   "execution_count": 7,
   "metadata": {},
   "outputs": [],
   "source": [
    "df = df[['Adj. Open' ,'Adj. High' ,'Adj. Low' ,'Adj. Close' ,'Adj. Volume' ]]\n"
   ]
  },
  {
   "cell_type": "code",
   "execution_count": 8,
   "metadata": {},
   "outputs": [],
   "source": [
    "df['HL_PCT'] = (df['Adj. High'] - df['Adj. Low']) / df['Adj. Low'] * 100.0"
   ]
  },
  {
   "cell_type": "code",
   "execution_count": 9,
   "metadata": {},
   "outputs": [],
   "source": [
    "df['PCT_change'] = (df['Adj. Close'] - df['Adj. Open']) / df['Adj. Open'] * 100.0"
   ]
  },
  {
   "cell_type": "code",
   "execution_count": 10,
   "metadata": {},
   "outputs": [],
   "source": [
    "df = df[['Adj. Close', 'HL_PCT', 'PCT_change', 'Adj. Volume']]"
   ]
  },
  {
   "cell_type": "code",
   "execution_count": 27,
   "metadata": {},
   "outputs": [
    {
     "name": "stdout",
     "output_type": "stream",
     "text": [
      "[-99999.00476734 -99999.00476734 -99999.00476734 -99999.00476734\n",
      " -99999.00476734 -99999.00476734 -99999.00476734 -99999.00476734\n",
      " -99999.00476734 -99999.00476734 -99999.00476734 -99999.00476734\n",
      " -99999.00476734 -99999.00476734 -99999.00476734 -99999.00476734\n",
      " -99999.00476734 -99999.00476734 -99999.00476734 -99999.00476734\n",
      " -99999.00476734 -99999.00476734 -99999.00476734 -99999.00476734\n",
      " -99999.00476734 -99999.00476734 -99999.00476734 -99999.00476734\n",
      " -99999.00476734 -99999.00476734 -99999.00476734 -99999.00476734\n",
      " -99999.00476734 -99999.00476734 -99999.00476734 -99999.00476734\n",
      " -99999.00476734 -99999.00476734 -99999.00476734 -99999.00476734\n",
      " -99999.00476734] 0.9623826224626785 41\n",
      "0.9623826224626785\n"
     ]
    }
   ],
   "source": [
    "\n",
    "forecast_col = 'Adj. Close'\n",
    "df.fillna(-99999, inplace=True)\n",
    "forecast_out = int(math.ceil(0.01*len(df)))\n",
    "print(forecast_out)\n",
    "'''\n",
    "The forecast_out value which in this case is (0.01) , is some arbitrary value, in this case it's used to say how far \n",
    "in advance you will predict the 'Adj. Close'.\n",
    "The shift method aligns the observations with the future value to predict. \n",
    "Then with this dataframe you can easily use scikit-learn to fit a model.\n",
    "'''\n",
    "\n",
    "# print (\"Dataset= \" + str(len(df)))\n",
    "df['label'] = df[forecast_col].shift(-forecast_out)\n",
    "X = np.array(df.drop(['label'], 1))\n",
    "X = preprocessing.scale(X)\n",
    "X = X[:-forecast_out]\n",
    "X_lately = X[-forecast_out:]\n",
    "df.dropna(inplace=True)\n",
    "Y = np.array(df['label'])\n",
    "X_train, X_test, Y_train, Y_test = cross_validation.train_test_split(X, Y , test_size=0.2)\n",
    "clf =LinearRegression()\n",
    "clf.fit(X_train, Y_train)\n",
    "accuracy = clf.score(X_test , Y_test)\n",
    "forecast_set = clf.predict(X_lately)\n",
    "print(forecast_set, accuracy, forecast_out)\n",
    "print(accuracy)\n",
    "# Label is the prediction made after X days."
   ]
  },
  {
   "cell_type": "code",
   "execution_count": 25,
   "metadata": {},
   "outputs": [
    {
     "data": {
      "image/png": "[encoded data removed]",
      "text/plain": [
       "<Figure size 432x288 with 1 Axes>"
      ]
     },
     "metadata": {},
     "output_type": "display_data"
    },
    {
     "name": "stdout",
     "output_type": "stream",
     "text": [
      "Forecasting after 411 days\n",
      "                     Adj. Close  HL_PCT  PCT_change  Adj. Volume  label  \\\n",
      "Date                                                                      \n",
      "2020-10-16 23:00:00         NaN     NaN         NaN          NaN    NaN   \n",
      "2020-10-17 23:00:00         NaN     NaN         NaN          NaN    NaN   \n",
      "2020-10-18 23:00:00         NaN     NaN         NaN          NaN    NaN   \n",
      "2020-10-19 23:00:00         NaN     NaN         NaN          NaN    NaN   \n",
      "2020-10-20 23:00:00         NaN     NaN         NaN          NaN    NaN   \n",
      "\n",
      "                         Forecast  \n",
      "Date                               \n",
      "2020-10-16 23:00:00 -99998.907966  \n",
      "2020-10-17 23:00:00 -99998.907966  \n",
      "2020-10-18 23:00:00 -99998.907966  \n",
      "2020-10-19 23:00:00 -99998.907966  \n",
      "2020-10-20 23:00:00 -99998.907966  \n"
     ]
    }
   ],
   "source": [
    "df['Forecast'] = np.nan\n",
    "last_date = df.iloc[-1].name\n",
    "last_unix = last_date.timestamp()\n",
    "one_day = 86400\n",
    "next_unix = last_unix + one_day\n",
    "for i in forecast_set:\n",
    "    next_date = datetime.datetime.fromtimestamp(next_unix)\n",
    "    next_unix += one_day\n",
    "    df.loc[next_date] = [np.nan for _ in range(len(df.columns)-1)] + [i]\n",
    "\n",
    "df['Adj. Close'].plot()\n",
    "df['Forecast'].plot()\n",
    "plt.legend(loc=4)\n",
    "plt.xlabel('Date')\n",
    "plt.ylabel('Price')\n",
    "plt.show()\n",
    "print (\"Forecasting after {} days\".format(str(forecast_out)))\n",
    "\n",
    "print(df.tail())"
   ]
  },
  {
   "cell_type": "code",
   "execution_count": null,
   "metadata": {},
   "outputs": [],
   "source": []
  }
 ],
 "metadata": {
  "kernelspec": {
   "display_name": "Python 3",
   "language": "python",
   "name": "python3"
  },
  "language_info": {
   "codemirror_mode": {
    "name": "ipython",
    "version": 3
   },
   "file_extension": ".py",
   "mimetype": "text/x-python",
   "name": "python",
   "nbconvert_exporter": "python",
   "pygments_lexer": "ipython3",
   "version": "3.6.7"
  }
 },
 "nbformat": 4,
 "nbformat_minor": 2
}
