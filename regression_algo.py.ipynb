{
 "cells": [
  {
   "cell_type": "code",
   "execution_count": 38,
   "metadata": {},
   "outputs": [],
   "source": [
    "from statistics import mean \n",
    "import numpy as np\n",
    "import matplotlib.pyplot as plt\n",
    "from matplotlib import style\n",
    "import random \n",
    "style.use('fivethirtyeight')"
   ]
  },
  {
   "cell_type": "code",
   "execution_count": 59,
   "metadata": {},
   "outputs": [
    {
     "name": "stdout",
     "output_type": "stream",
     "text": [
      "0.4393000281123691\n"
     ]
    },
    {
     "data": {
      "image/png": "[encoded data removed]",
      "text/plain": [
       "<Figure size 432x288 with 1 Axes>"
      ]
     },
     "metadata": {},
     "output_type": "display_data"
    }
   ],
   "source": [
    "# xs = np.array([1, 2, 3, 4, 5, 6], dtype=np.float64)\n",
    "# ys = np.array([5 ,4, 6, 5 ,6 ,7], dtype=np.float64)\n",
    "\n",
    "def create_dataset(hm , variance, step=2, correlation=False):\n",
    "    val = 1\n",
    "    ys = []\n",
    "    for i in range(hm):\n",
    "        y = val + random.randrange(-variance, variance)\n",
    "        ys.append(y)\n",
    "        if correlation and correlation == 'pos':\n",
    "            val += step\n",
    "        elif correlation and correlation == 'neg':\n",
    "            val -= step \n",
    "    xs = [i for i in range(len(ys))]\n",
    "    return np.array(xs, dtype=np.float64), np.array(ys, dtype=np.float64)\n",
    "\n",
    "\n",
    "\n",
    "def best_fit_slope_and_intercept(xs, ys):\n",
    "    m = (((mean(xs) * mean(ys)) - mean(xs*ys)) /\n",
    "         ((mean(xs)**2) - mean(xs**2)))\n",
    "    b = mean(ys) -( m * mean(xs))\n",
    "\n",
    "    return m , b\n",
    "\n",
    "def squared_error(ys_orig, ys_line):\n",
    "    return sum((ys_line-ys_orig)**2)\n",
    "\n",
    "def coefficient_of_determination(ys_orig, ys_line):\n",
    "    y_mean_line = mean(ys_orig)\n",
    "    squared_error_regr = squared_error(ys_orig, ys_line)\n",
    "    squared_error_y_mean = squared_error(ys_orig, y_mean_line)\n",
    "    return 1 - (squared_error_regr/squared_error_y_mean)\n",
    "\n",
    "xs, ys = create_dataset(40, 40, 2, correlation='pos')\n",
    "m , b= best_fit_slope_and_intercept(xs, ys)\n",
    "regression_line = [(m * x)+b for x in xs]\n",
    "predict_x = 8\n",
    "predict_y = (m*predict_x)+b\n",
    "r_squared = coefficient_of_determination(ys, regression_line)\n",
    "print(r_squared)\n",
    "plt.scatter(xs, ys)\n",
    "plt.scatter(predict_x, predict_y)\n",
    "plt.plot(xs, regression_line)\n",
    "plt.show()"
   ]
  }
 ],
 "metadata": {
  "kernelspec": {
   "display_name": "Python 3",
   "language": "python",
   "name": "python3"
  },
  "language_info": {
   "codemirror_mode": {
    "name": "ipython",
    "version": 3
   },
   "file_extension": ".py",
   "mimetype": "text/x-python",
   "name": "python",
   "nbconvert_exporter": "python",
   "pygments_lexer": "ipython3",
   "version": "3.6.7"
  }
 },
 "nbformat": 4,
 "nbformat_minor": 2
}
